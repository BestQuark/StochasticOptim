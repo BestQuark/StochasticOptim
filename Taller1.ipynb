{
 "cells": [
  {
   "cell_type": "markdown",
   "metadata": {},
   "source": [
    "# Taller 1"
   ]
  },
  {
   "cell_type": "code",
   "execution_count": 1,
   "metadata": {},
   "outputs": [],
   "source": [
    "import numpy as np\n",
    "import matplotlib.pyplot as plt\n",
    "from scipy.stats import poisson\n",
    "from IPython.display import clear_output"
   ]
  },
  {
   "cell_type": "code",
   "execution_count": 2,
   "metadata": {},
   "outputs": [],
   "source": [
    "gamma = 0.9\n",
    "epsilon = 1e-2*(1-gamma)/(2*gamma)\n",
    "demanda = poisson(10)\n",
    "M = 100"
   ]
  },
  {
   "cell_type": "markdown",
   "metadata": {},
   "source": [
    "### Inicializa problema"
   ]
  },
  {
   "cell_type": "code",
   "execution_count": 27,
   "metadata": {},
   "outputs": [],
   "source": [
    "#Define funciones necesarias para la recompenza\n",
    "\n",
    "def O(u):\n",
    "    if u!=0:\n",
    "        return max(2+2*u, 0)\n",
    "    elif u==0:\n",
    "        return 0\n",
    "\n",
    "def h(s):\n",
    "    return max(s,0)\n",
    "\n",
    "def f(s):\n",
    "    return max(10*s,0)\n",
    "\n",
    "def rewF(estado,accion):\n",
    "    if estado+accion>0:\n",
    "        states = np.arange(estado+accion)\n",
    "        rew1 = np.sum(np.multiply(np.vectorize(f)(states), demanda.pmf(states)))\n",
    "        rew2 = f(estado+accion)*demanda.sf(estado+accion-1)\n",
    "        return rew1+rew2\n",
    "    else: \n",
    "        return 0"
   ]
  },
  {
   "cell_type": "code",
   "execution_count": 28,
   "metadata": {},
   "outputs": [],
   "source": [
    "#inicializa estados acciones, rewards y probs de transicion\n",
    "\n",
    "estados = np.arange(0,M+1)\n",
    "acciones = {}\n",
    "for estado in estados:\n",
    "    acciones[estado] = np.arange(0,M+1-estado)\n",
    "\n",
    "rewards = {}\n",
    "for estado in estados:\n",
    "    for accion in acciones[estado]:\n",
    "        rewards[(estado,accion)] = -O(accion) - h(estado+accion) + rewF(estado,accion)\n",
    "\n",
    "probTrans={}\n",
    "for estado in estados:\n",
    "    for accion in acciones[estado]:\n",
    "        for sigEstado in estados:\n",
    "            if estado+accion<sigEstado:\n",
    "                probTrans[(sigEstado, estado, accion)] = 0\n",
    "            elif estado+accion>=sigEstado and sigEstado!=0:\n",
    "                probTrans[(sigEstado, estado, accion)] = demanda.pmf(estado+accion-sigEstado)\n",
    "            elif estado+accion>=sigEstado and sigEstado==0:\n",
    "                probTrans[(sigEstado, estado, accion)] = demanda.sf(estado+accion-1)"
   ]
  },
  {
   "cell_type": "markdown",
   "metadata": {},
   "source": [
    "## Value iteration"
   ]
  },
  {
   "cell_type": "code",
   "execution_count": 5,
   "metadata": {},
   "outputs": [],
   "source": [
    "#inicializa random policy y random value\n",
    "\n",
    "policyVI = {}\n",
    "for s in acciones.keys():\n",
    "    policyVI[s] = np.random.choice(acciones[s])\n",
    "\n",
    "valueVI = {}\n",
    "for s in estados:\n",
    "    valueVI[s] = 0\n",
    "    \n",
    "allValuesVI = {}"
   ]
  },
  {
   "cell_type": "markdown",
   "metadata": {},
   "source": [
    "### Algoritmo"
   ]
  },
  {
   "cell_type": "code",
   "execution_count": 6,
   "metadata": {},
   "outputs": [
    {
     "name": "stdout",
     "output_type": "stream",
     "text": [
      "Iteration:  111 \n",
      "Biggest_change:  0.0005771565216718955\n"
     ]
    }
   ],
   "source": [
    "iterat = 0\n",
    "while True and iterat<10000:\n",
    "    allValuesVI[iterat] = valueVI\n",
    "    biggest_change = 0\n",
    "    valueNuevo = {}\n",
    "    for estado in estados:\n",
    "        if estado in policyVI:\n",
    "            \n",
    "            old_v = valueVI[estado]\n",
    "            new_v = 0\n",
    "            \n",
    "            for accion in acciones[estado]:\n",
    "                v = [probTrans[(est2, estado, accion)]*valueVI[est2] for est2 in estados]\n",
    "                v = rewards[(estado,accion)]+gamma*np.sum(v)\n",
    "                if v>new_v:\n",
    "                    new_v = v\n",
    "                    policyVI[estado] = accion\n",
    "            \n",
    "            valueNuevo[estado] = new_v\n",
    "            biggest_change = max(biggest_change, np.abs(old_v-new_v))\n",
    "    valueVI = valueNuevo                            \n",
    "    if biggest_change<epsilon:\n",
    "        break\n",
    "    iterat+=1 \n",
    "    clear_output(wait=True)\n",
    "    print(\"Iteration: \", iterat, \"\\nBiggest_change: \", biggest_change)"
   ]
  },
  {
   "cell_type": "code",
   "execution_count": 7,
   "metadata": {},
   "outputs": [
    {
     "data": {
      "text/plain": [
       "Text(0, 0.5, 'Policy')"
      ]
     },
     "execution_count": 7,
     "metadata": {},
     "output_type": "execute_result"
    },
    {
     "data": {
      "image/png": "[encoded data removed]",
      "text/plain": [
       "<Figure size 432x288 with 1 Axes>"
      ]
     },
     "metadata": {
      "needs_background": "light"
     },
     "output_type": "display_data"
    },
    {
     "data": {
      "image/png": "[encoded data removed]",
      "text/plain": [
       "<Figure size 432x288 with 1 Axes>"
      ]
     },
     "metadata": {
      "needs_background": "light"
     },
     "output_type": "display_data"
    }
   ],
   "source": [
    "plt.figure()\n",
    "plt.plot(np.arange(M+1), [valueVI[i] for i in estados], marker='o', ms=2.5, c='b')\n",
    "plt.xlabel(\"Cantidad en stock (s)\")\n",
    "plt.ylabel(\"Value\")\n",
    "\n",
    "plt.figure()\n",
    "plt.plot(np.arange(M+1), [policyVI[i] for i in estados], marker='o', ms=2.5, c='r')\n",
    "plt.xlabel(\"Cantidad en stock (s)\")\n",
    "plt.ylabel(\"Policy\")"
   ]
  },
  {
   "cell_type": "markdown",
   "metadata": {},
   "source": [
    "## Gauss-Seidel"
   ]
  },
  {
   "cell_type": "code",
   "execution_count": 8,
   "metadata": {},
   "outputs": [],
   "source": [
    "#inicializa random policy y random value\n",
    "\n",
    "policyGS = {}\n",
    "for s in acciones.keys():\n",
    "    policyGS[s] = np.random.choice(acciones[s])\n",
    "\n",
    "valueGS = {}\n",
    "for s in estados:\n",
    "    valueGS[s] = 0\n",
    "    \n",
    "allValuesGS = {}"
   ]
  },
  {
   "cell_type": "markdown",
   "metadata": {},
   "source": [
    "### Algoritmo"
   ]
  },
  {
   "cell_type": "code",
   "execution_count": 9,
   "metadata": {},
   "outputs": [
    {
     "name": "stdout",
     "output_type": "stream",
     "text": [
      "Iteration:  63 \n",
      "Biggest_change:  0.0006516450652043204\n"
     ]
    }
   ],
   "source": [
    "iterat = 0\n",
    "while True and iterat<10000:\n",
    "    allValuesGS[iterat] = valueGS.copy()\n",
    "    biggest_change = 0\n",
    "    for estado in estados:\n",
    "        if estado in policyGS:\n",
    "            \n",
    "            old_v = valueGS[estado]\n",
    "            new_v = 0\n",
    "            \n",
    "            for accion in acciones[estado]:\n",
    "                v = [probTrans[(est2, estado, accion)]*valueGS[est2] for est2 in estados]\n",
    "                v = rewards[(estado,accion)]+gamma*np.sum(v)\n",
    "                if v>new_v:\n",
    "                    new_v = v\n",
    "                    policyGS[estado] = accion\n",
    "            \n",
    "            valueGS[estado] = new_v\n",
    "            biggest_change = max(biggest_change, np.abs(old_v-new_v))\n",
    "                                 \n",
    "    if biggest_change<epsilon:\n",
    "        break\n",
    "    iterat+=1 \n",
    "    clear_output(wait=True)\n",
    "    print(\"Iteration: \", iterat, \"\\nBiggest_change: \", biggest_change)"
   ]
  },
  {
   "cell_type": "code",
   "execution_count": 10,
   "metadata": {},
   "outputs": [
    {
     "data": {
      "text/plain": [
       "Text(0.5, 1.0, 'Política óptima')"
      ]
     },
     "execution_count": 10,
     "metadata": {},
     "output_type": "execute_result"
    },
    {
     "data": {
      "image/png": "[encoded data removed]",
      "text/plain": [
       "<Figure size 432x288 with 1 Axes>"
      ]
     },
     "metadata": {
      "needs_background": "light"
     },
     "output_type": "display_data"
    },
    {
     "data": {
      "image/png": "[encoded data removed]",
      "text/plain": [
       "<Figure size 432x288 with 1 Axes>"
      ]
     },
     "metadata": {
      "needs_background": "light"
     },
     "output_type": "display_data"
    }
   ],
   "source": [
    "plt.figure()\n",
    "plt.plot(np.arange(M+1), [valueGS[i] for i in estados], marker='o', ms=2.5, c='b')\n",
    "plt.xlabel(\"Estado\")\n",
    "plt.ylabel(r'$V_\\lambda$')\n",
    "plt.title(\"Recompensa óptima\")\n",
    "\n",
    "plt.figure()\n",
    "plt.plot(np.arange(M+1), [policyGS[i] for i in estados], marker='o', ms=2.5, c='r')\n",
    "plt.xlabel(\"Estado\")\n",
    "plt.ylabel(\"Acción\")\n",
    "plt.title(\"Política óptima\")"
   ]
  },
  {
   "cell_type": "markdown",
   "metadata": {},
   "source": [
    "## Jacobi"
   ]
  },
  {
   "cell_type": "code",
   "execution_count": 11,
   "metadata": {},
   "outputs": [],
   "source": [
    "#inicializa random policy y random value\n",
    "\n",
    "policyJAC = {}\n",
    "for s in acciones.keys():\n",
    "    policyJAC[s] = np.random.choice(acciones[s])\n",
    "\n",
    "valueJAC = {}\n",
    "for s in estados:\n",
    "    valueJAC[s] = 0\n",
    "    \n",
    "allValuesJAC = {}"
   ]
  },
  {
   "cell_type": "markdown",
   "metadata": {},
   "source": [
    "### Algoritmo"
   ]
  },
  {
   "cell_type": "code",
   "execution_count": 12,
   "metadata": {},
   "outputs": [
    {
     "name": "stdout",
     "output_type": "stream",
     "text": [
      "Iteration:  96 \n",
      "Biggest_change:  0.0005946262490397203\n"
     ]
    }
   ],
   "source": [
    "iterat = 0\n",
    "while True and iterat<10000:\n",
    "    allValuesJAC[iterat] = valueJAC\n",
    "    biggest_change = 0\n",
    "    valueNuevo = {}\n",
    "    for estado in estados:\n",
    "        if estado in policyJAC:\n",
    "            \n",
    "            old_v = valueJAC[estado]\n",
    "            new_v = 0\n",
    "            \n",
    "            for accion in acciones[estado]:\n",
    "                v = [probTrans[(est2, estado, accion)]*valueJAC[est2] for est2 in estados if est2!=estado]\n",
    "                v = rewards[(estado,accion)]/(1-gamma*probTrans[(estado,estado,accion)])+(gamma*np.sum(v)/(1-gamma*probTrans[(estado,estado,accion)]))\n",
    "                if v>new_v:\n",
    "                    new_v = v\n",
    "                    policyJAC[estado] = accion\n",
    "            \n",
    "            valueNuevo[estado] = new_v\n",
    "            biggest_change = max(biggest_change, np.abs(old_v-new_v))\n",
    "    valueJAC = valueNuevo                            \n",
    "    if biggest_change<epsilon:\n",
    "        break\n",
    "    iterat+=1 \n",
    "    clear_output(wait=True)\n",
    "    print(\"Iteration: \", iterat, \"\\nBiggest_change: \", biggest_change)\n",
    "    "
   ]
  },
  {
   "cell_type": "code",
   "execution_count": 13,
   "metadata": {},
   "outputs": [
    {
     "data": {
      "text/plain": [
       "Text(0.5, 1.0, 'Política óptima')"
      ]
     },
     "execution_count": 13,
     "metadata": {},
     "output_type": "execute_result"
    },
    {
     "data": {
      "image/png": "[encoded data removed]",
      "text/plain": [
       "<Figure size 432x288 with 1 Axes>"
      ]
     },
     "metadata": {
      "needs_background": "light"
     },
     "output_type": "display_data"
    },
    {
     "data": {
      "image/png": "[encoded data removed]",
      "text/plain": [
       "<Figure size 432x288 with 1 Axes>"
      ]
     },
     "metadata": {
      "needs_background": "light"
     },
     "output_type": "display_data"
    }
   ],
   "source": [
    "plt.figure()\n",
    "plt.plot(np.arange(M+1), [valueJAC[i] for i in estados], marker='o', ms=2.5, c='b')\n",
    "plt.xlabel(\"Estado\")\n",
    "plt.ylabel(r'$V_\\lambda$')\n",
    "plt.title(\"Recompensa óptima\")\n",
    "\n",
    "plt.figure()\n",
    "plt.plot(np.arange(M+1), [policyJAC[i] for i in estados], marker='o', ms=2.5, c='r')\n",
    "plt.xlabel(\"Estado\")\n",
    "plt.ylabel(\"Acción\")\n",
    "plt.title(\"Política óptima\")"
   ]
  },
  {
   "cell_type": "markdown",
   "metadata": {},
   "source": [
    "## Relación entre los tres métodos"
   ]
  },
  {
   "cell_type": "code",
   "execution_count": 14,
   "metadata": {},
   "outputs": [],
   "source": [
    "valueOptima = valueGS\n",
    "politicaOptima = policyGS"
   ]
  },
  {
   "cell_type": "code",
   "execution_count": 15,
   "metadata": {},
   "outputs": [],
   "source": [
    "difNormVI = np.zeros(40)\n",
    "difNormGS = np.zeros(40)\n",
    "difNormJAC = np.zeros(40)\n",
    "for i in range(40):\n",
    "    restaVI = np.zeros_like(estados)\n",
    "    restaGS = np.zeros_like(estados)\n",
    "    restaJAC = np.zeros_like(estados)\n",
    "\n",
    "    for s in estados:\n",
    "        restaVI[s] = np.abs(allValuesVI[i][s]-valueOptima[s])\n",
    "        restaGS[s] = np.abs(allValuesGS[i][s]-valueOptima[s])\n",
    "        restaJAC[s] = np.abs(allValuesJAC[i][s]-valueOptima[s])\n",
    "        \n",
    "    difNormVI[i] = np.max(restaVI)\n",
    "    difNormGS[i] = np.max(restaGS)\n",
    "    difNormJAC[i] = np.max(restaJAC)"
   ]
  },
  {
   "cell_type": "code",
   "execution_count": 16,
   "metadata": {},
   "outputs": [
    {
     "data": {
      "image/png": "[encoded data removed]",
      "text/plain": [
       "<Figure size 432x288 with 1 Axes>"
      ]
     },
     "metadata": {
      "needs_background": "light"
     },
     "output_type": "display_data"
    }
   ],
   "source": [
    "plt.plot(np.arange(40),difNormVI, label= 'VI', c='green', marker='o', ms=2)\n",
    "plt.plot(np.arange(40),difNormGS, label= 'GS', c='red', marker='o', ms=2)\n",
    "plt.plot(np.arange(40),difNormJAC, label = 'JAC', c='blue', marker='o', ms=2)\n",
    "plt.legend()\n",
    "plt.xlabel('Iteraciones')\n",
    "plt.ylabel(r'$||v^n - v_\\lambda^\\star ||$')\n",
    "plt.show()"
   ]
  },
  {
   "cell_type": "markdown",
   "metadata": {},
   "source": [
    "## Cambiar c(s)"
   ]
  },
  {
   "cell_type": "code",
   "execution_count": 22,
   "metadata": {},
   "outputs": [],
   "source": [
    "def O(u):\n",
    "    if u!=0:\n",
    "        return max(2+3*u-0.01*u*u, 0)\n",
    "    elif u==0:\n",
    "        return 0\n",
    "\n",
    "rewards = {}\n",
    "for estado in estados:\n",
    "    for accion in acciones[estado]:\n",
    "        rewards[(estado,accion)] = -O(accion) - h(estado+accion) + rewF(estado,accion)\n"
   ]
  },
  {
   "cell_type": "code",
   "execution_count": 23,
   "metadata": {},
   "outputs": [],
   "source": [
    "#inicializa random policy y random value\n",
    "\n",
    "policyGS2 = {}\n",
    "for s in acciones.keys():\n",
    "    policyGS2[s] = np.random.choice(acciones[s])\n",
    "\n",
    "valueGS2 = {}\n",
    "for s in estados:\n",
    "    valueGS2[s] = 0\n",
    "    \n",
    "allValuesGS2 = {}"
   ]
  },
  {
   "cell_type": "code",
   "execution_count": 24,
   "metadata": {},
   "outputs": [
    {
     "name": "stdout",
     "output_type": "stream",
     "text": [
      "Iteration:  63 \n",
      "Biggest_change:  0.0005934707477308621\n"
     ]
    }
   ],
   "source": [
    "iterat = 0\n",
    "while True and iterat<10000:\n",
    "    allValuesGS2[iterat] = valueGS2.copy()\n",
    "    biggest_change = 0\n",
    "    for estado in estados:\n",
    "        if estado in policyGS2:\n",
    "            \n",
    "            old_v = valueGS2[estado]\n",
    "            new_v = 0\n",
    "            \n",
    "            for accion in acciones[estado]:\n",
    "                v = [probTrans[(est2, estado, accion)]*valueGS2[est2] for est2 in estados]\n",
    "                v = rewards[(estado,accion)]+gamma*np.sum(v)\n",
    "                if v>new_v:\n",
    "                    new_v = v\n",
    "                    policyGS2[estado] = accion\n",
    "            \n",
    "            valueGS2[estado] = new_v\n",
    "            biggest_change = max(biggest_change, np.abs(old_v-new_v))\n",
    "                                 \n",
    "    if biggest_change<epsilon:\n",
    "        break\n",
    "    iterat+=1 \n",
    "    clear_output(wait=True)\n",
    "    print(\"Iteration: \", iterat, \"\\nBiggest_change: \", biggest_change)"
   ]
  },
  {
   "cell_type": "code",
   "execution_count": 25,
   "metadata": {},
   "outputs": [
    {
     "data": {
      "text/plain": [
       "Text(0.5, 1.0, 'Política óptima')"
      ]
     },
     "execution_count": 25,
     "metadata": {},
     "output_type": "execute_result"
    },
    {
     "data": {
      "image/png": "[encoded data removed]",
      "text/plain": [
       "<Figure size 432x288 with 1 Axes>"
      ]
     },
     "metadata": {
      "needs_background": "light"
     },
     "output_type": "display_data"
    },
    {
     "data": {
      "image/png": "[encoded data removed]",
      "text/plain": [
       "<Figure size 432x288 with 1 Axes>"
      ]
     },
     "metadata": {
      "needs_background": "light"
     },
     "output_type": "display_data"
    }
   ],
   "source": [
    "plt.figure()\n",
    "plt.plot(np.arange(M+1), [valueGS2[i] for i in estados], marker='o', ms=2.5, c='b')\n",
    "plt.xlabel(\"Estado\")\n",
    "plt.ylabel(r'$V_\\lambda^\\prime$')\n",
    "plt.title(\"Recompensa óptima\")\n",
    "\n",
    "plt.figure()\n",
    "plt.plot(np.arange(M+1), [policyGS2[i] for i in estados], marker='o', ms=2.5, c='r')\n",
    "plt.xlabel(\"Estado\")\n",
    "plt.ylabel(r\"Acción $(\\pi^\\prime)$\")\n",
    "plt.title(\"Política óptima\")"
   ]
  },
  {
   "cell_type": "code",
   "execution_count": 26,
   "metadata": {},
   "outputs": [
    {
     "data": {
      "text/plain": [
       "Text(0.5, 1.0, 'Diferencia de políticas')"
      ]
     },
     "execution_count": 26,
     "metadata": {},
     "output_type": "execute_result"
    },
    {
     "data": {
      "image/png": "[encoded data removed]",
      "text/plain": [
       "<Figure size 432x288 with 1 Axes>"
      ]
     },
     "metadata": {
      "needs_background": "light"
     },
     "output_type": "display_data"
    },
    {
     "data": {
      "image/png": "[encoded data removed]",
      "text/plain": [
       "<Figure size 432x288 with 1 Axes>"
      ]
     },
     "metadata": {
      "needs_background": "light"
     },
     "output_type": "display_data"
    }
   ],
   "source": [
    "plt.figure()\n",
    "plt.plot(np.arange(M+1), [valueGS2[i]-valueGS[i] for i in estados], marker='o', ms=2.5, c='b')\n",
    "plt.xlabel(\"Estado\")\n",
    "plt.ylabel(r'$V_\\lambda^\\prime - V_\\lambda$')\n",
    "plt.title(\"Diferencia de recompensas óptimas\")\n",
    "\n",
    "plt.figure()\n",
    "plt.plot(np.arange(M+1), [policyGS2[i]-policyGS[i] for i in estados], marker='o', ms=2.5, c='r')\n",
    "plt.xlabel(\"Estado\")\n",
    "plt.ylabel(r'$\\pi^\\prime - \\pi$')\n",
    "plt.title(\"Diferencia de políticas\")"
   ]
  },
  {
   "cell_type": "markdown",
   "metadata": {},
   "source": [
    "## Ver cuando lambda tiende a 1"
   ]
  },
  {
   "cell_type": "code",
   "execution_count": 29,
   "metadata": {},
   "outputs": [],
   "source": [
    "gamma = 0.9\n",
    "epsilon = 1e-2*(1-gamma)/(2*gamma)\n",
    "demanda = poisson(10)\n",
    "M = 100"
   ]
  },
  {
   "cell_type": "code",
   "execution_count": 30,
   "metadata": {},
   "outputs": [],
   "source": [
    "\n",
    "def valGamma(gamma):\n",
    "    epsilon = 1e-2*(1-gamma)/(2*gamma)\n",
    "    rewards = {}\n",
    "    for estado in estados:\n",
    "        for accion in acciones[estado]:\n",
    "            rewards[(estado,accion)] = (-O(accion) - h(estado+accion) + rewF(estado,accion))*(1-gamma)\n",
    "\n",
    "    policyGS = {}\n",
    "    for s in acciones.keys():\n",
    "        policyGS[s] = np.random.choice(acciones[s])\n",
    "\n",
    "    valueGS = {}\n",
    "    for s in estados:\n",
    "        valueGS[s] = 0\n",
    "\n",
    "    iterat = 0\n",
    "    while True and iterat<10000:\n",
    "        allValuesGS[iterat] = valueGS.copy()\n",
    "        biggest_change = 0\n",
    "        for estado in estados:\n",
    "            if estado in policyGS:\n",
    "\n",
    "                old_v = valueGS[estado]\n",
    "                new_v = 0\n",
    "\n",
    "                for accion in acciones[estado]:\n",
    "                    v = [probTrans[(est2, estado, accion)]*valueGS[est2] for est2 in estados]\n",
    "                    v = rewards[(estado,accion)]+gamma*np.sum(v)\n",
    "                    if v>new_v:\n",
    "                        new_v = v\n",
    "                        policyGS[estado] = accion\n",
    "\n",
    "                valueGS[estado] = new_v\n",
    "                biggest_change = max(biggest_change, np.abs(old_v-new_v))\n",
    "\n",
    "        if biggest_change<epsilon:\n",
    "            break\n",
    "        iterat+=1 \n",
    "        clear_output(wait=True)\n",
    "        print(\"Iteration: \", iterat, \"\\nBiggest_change: \", biggest_change)\n",
    "        \n",
    "    return valueGS, policyGS"
   ]
  },
  {
   "cell_type": "code",
   "execution_count": 31,
   "metadata": {},
   "outputs": [
    {
     "name": "stdout",
     "output_type": "stream",
     "text": [
      "Iteration:  5088 \n",
      "Biggest_change:  5.00960477722856e-06\n"
     ]
    }
   ],
   "source": [
    "policies = {}\n",
    "for gamma in [0.9, 0.95, 0.97, 0.99, 0.999]:\n",
    "    _ , policyGS = valGamma(gamma)\n",
    "    policies[gamma] = [policyGS[i] for i in estados]\n"
   ]
  },
  {
   "cell_type": "code",
   "execution_count": 32,
   "metadata": {},
   "outputs": [
    {
     "data": {
      "text/plain": [
       "Text(0.5, 1.0, 'Política óptima')"
      ]
     },
     "execution_count": 32,
     "metadata": {},
     "output_type": "execute_result"
    },
    {
     "data": {
      "image/png": "[encoded data removed]",
      "text/plain": [
       "<Figure size 432x288 with 1 Axes>"
      ]
     },
     "metadata": {
      "needs_background": "light"
     },
     "output_type": "display_data"
    }
   ],
   "source": [
    "import itertools\n",
    "marker = itertools.cycle(('+', 'o', '*')) \n",
    "lineas = itertools.cycle(('--', '-', ':'))\n",
    "colorss = itertools.cycle(('red', 'blue', 'green'))\n",
    "for p in policies:\n",
    "    if p!=0.97 and p!=0.95:\n",
    "        plt.plot(np.arange(M+1), policies[p],marker=next(marker),ms='3', ls=next(lineas), c=next(colorss), label = \"{f}\".format(f=p))\n",
    "plt.legend(title= r'$\\lambda$')\n",
    "plt.xlabel(\"Estado\")\n",
    "plt.ylabel(\"Acción\")\n",
    "plt.title(\"Política óptima\")"
   ]
  },
  {
   "cell_type": "code",
   "execution_count": 88,
   "metadata": {},
   "outputs": [
    {
     "data": {
      "text/plain": [
       "[<matplotlib.lines.Line2D at 0x7f3e30b80e80>]"
      ]
     },
     "execution_count": 88,
     "metadata": {},
     "output_type": "execute_result"
    },
    {
     "data": {
      "image/png": "[encoded data removed]",
      "text/plain": [
       "<Figure size 432x288 with 1 Axes>"
      ]
     },
     "metadata": {
      "needs_background": "light"
     },
     "output_type": "display_data"
    }
   ],
   "source": [
    "plt.plot(np.arange(M+1), [_[j] for j in _])"
   ]
  },
  {
   "cell_type": "code",
   "execution_count": 38,
   "metadata": {},
   "outputs": [
    {
     "data": {
      "text/plain": [
       "[13, 12, 11, 10, 9, 8, 7, 6, 5, 4, 3, 0, 0, 0, 0]"
      ]
     },
     "execution_count": 38,
     "metadata": {},
     "output_type": "execute_result"
    }
   ],
   "source": [
    "policies[0.9][0:15]"
   ]
  },
  {
   "cell_type": "code",
   "execution_count": 39,
   "metadata": {},
   "outputs": [
    {
     "data": {
      "text/plain": [
       "[14, 13, 12, 11, 10, 9, 8, 7, 6, 5, 4, 0, 0, 0, 0]"
      ]
     },
     "execution_count": 39,
     "metadata": {},
     "output_type": "execute_result"
    }
   ],
   "source": [
    "policies[0.95][0:15]"
   ]
  },
  {
   "cell_type": "code",
   "execution_count": 40,
   "metadata": {},
   "outputs": [
    {
     "data": {
      "text/plain": [
       "[14, 13, 12, 11, 10, 9, 8, 7, 6, 5, 4, 3, 0, 0, 0]"
      ]
     },
     "execution_count": 40,
     "metadata": {},
     "output_type": "execute_result"
    }
   ],
   "source": [
    "policies[0.97][0:15]"
   ]
  },
  {
   "cell_type": "code",
   "execution_count": 41,
   "metadata": {},
   "outputs": [
    {
     "data": {
      "text/plain": [
       "[14, 13, 12, 11, 10, 9, 8, 7, 6, 5, 4, 3, 0, 0, 0]"
      ]
     },
     "execution_count": 41,
     "metadata": {},
     "output_type": "execute_result"
    }
   ],
   "source": [
    "policies[0.99][0:15]"
   ]
  },
  {
   "cell_type": "code",
   "execution_count": 42,
   "metadata": {},
   "outputs": [
    {
     "data": {
      "text/plain": [
       "[14, 13, 12, 11, 10, 9, 8, 7, 6, 5, 4, 3, 0, 0, 0]"
      ]
     },
     "execution_count": 42,
     "metadata": {},
     "output_type": "execute_result"
    }
   ],
   "source": [
    "policies[0.999][0:15]"
   ]
  },
  {
   "cell_type": "code",
   "execution_count": null,
   "metadata": {},
   "outputs": [],
   "source": []
  }
 ],
 "metadata": {
  "kernelspec": {
   "display_name": "Python 3",
   "language": "python",
   "name": "python3"
  },
  "language_info": {
   "codemirror_mode": {
    "name": "ipython",
    "version": 3
   },
   "file_extension": ".py",
   "mimetype": "text/x-python",
   "name": "python",
   "nbconvert_exporter": "python",
   "pygments_lexer": "ipython3",
   "version": "3.6.9"
  }
 },
 "nbformat": 4,
 "nbformat_minor": 2
}
