{
  "nbformat": 4,
  "nbformat_minor": 0,
  "metadata": {
    "colab": {
      "name": "Tarea1.ipynb",
      "provenance": [],
      "collapsed_sections": [],
      "authorship_tag": "ABX9TyMC9GL9RPIOmwPgscS4ics+"
    },
    "kernelspec": {
      "name": "python3",
      "display_name": "Python 3"
    }
  },
  "cells": [
    {
      "cell_type": "markdown",
      "metadata": {
        "id": "2401qaQBGVKG"
      },
      "source": [
        "## The Secretary Problem"
      ]
    },
    {
      "cell_type": "code",
      "metadata": {
        "id": "vuoGZ54eUCv1"
      },
      "source": [
        "import numpy as np\r\n",
        "import matplotlib.pyplot as plt\r\n",
        "import seaborn as sns"
      ],
      "execution_count": 3,
      "outputs": []
    },
    {
      "cell_type": "code",
      "metadata": {
        "id": "xSoC05CyUF0B"
      },
      "source": [
        "N = 1000\r\n",
        "Candidatos =np.arange(N)+1"
      ],
      "execution_count": 4,
      "outputs": []
    },
    {
      "cell_type": "markdown",
      "metadata": {
        "id": "e9YdGRTtGmQm"
      },
      "source": [
        "### Algoritmo Óptimo"
      ]
    },
    {
      "cell_type": "code",
      "metadata": {
        "id": "57J3GWSYUNbl"
      },
      "source": [
        "def optimo(lista_candidatos):\r\n",
        "    N = lista_candidatos.size\r\n",
        "    elMejor = N+1\r\n",
        "    contratado = lista_candidatos[-1]\r\n",
        "    tau = N/np.e\r\n",
        "    for indx,i in enumerate(lista_candidatos):\r\n",
        "        if indx<tau:\r\n",
        "            if elMejor>i:\r\n",
        "                elMejor=i\r\n",
        "            else:\r\n",
        "                continue\r\n",
        "        if indx>=tau:\r\n",
        "            if elMejor>i:\r\n",
        "                contratado = i\r\n",
        "                break\r\n",
        "            else:\r\n",
        "                continue\r\n",
        "    return contratado"
      ],
      "execution_count": 87,
      "outputs": []
    },
    {
      "cell_type": "code",
      "metadata": {
        "colab": {
          "base_uri": "https://localhost:8080/",
          "height": 279
        },
        "id": "L1YtNkOWUPi4",
        "outputId": "978a5edc-0309-41e6-964b-785571fc6d2c"
      },
      "source": [
        "candidatosOptimos = []\r\n",
        "for i in range(700):\r\n",
        "    np.random.shuffle(Candidatos)\r\n",
        "    candidatosOptimos.append(optimo(Candidatos))\r\n",
        "candidatosOptimos = np.array(candidatosOptimos)\r\n",
        "plt.clf()\r\n",
        "ax = sns.histplot(candidatosOptimos)\r\n",
        "ax.set(xlabel='Ranking')\r\n",
        "plt.show()"
      ],
      "execution_count": 88,
      "outputs": [
        {
          "output_type": "display_data",
          "data": {
            "image/png": "[encoded data removed]",
            "text/plain": [
              "<Figure size 432x288 with 1 Axes>"
            ]
          },
          "metadata": {
            "tags": [],
            "needs_background": "light"
          }
        }
      ]
    },
    {
      "cell_type": "code",
      "metadata": {
        "colab": {
          "base_uri": "https://localhost:8080/",
          "height": 279
        },
        "id": "up_WHvMyXgOP",
        "outputId": "d91966fa-69cc-4d09-c343-ff237015042f"
      },
      "source": [
        "primeros = candidatosOptimos[np.where(candidatosOptimos<10)]\r\n",
        "plt.clf()\r\n",
        "ax = sns.histplot(primeros, bins=9)\r\n",
        "ax.set(xlabel='Ranking')\r\n",
        "plt.show()"
      ],
      "execution_count": 123,
      "outputs": [
        {
          "output_type": "display_data",
          "data": {
            "image/png": "[encoded data removed]",
            "text/plain": [
              "<Figure size 432x288 with 1 Axes>"
            ]
          },
          "metadata": {
            "tags": [],
            "needs_background": "light"
          }
        }
      ]
    },
    {
      "cell_type": "code",
      "metadata": {
        "colab": {
          "base_uri": "https://localhost:8080/"
        },
        "id": "Pr9IlNxpe-aR",
        "outputId": "a0cc9800-bb17-4a16-a6aa-1867850c1611"
      },
      "source": [
        "losPrimeros = candidatosOptimos[np.where(candidatosOptimos<50)]\r\n",
        "losPrimeros.size/700"
      ],
      "execution_count": 124,
      "outputs": [
        {
          "output_type": "execute_result",
          "data": {
            "text/plain": [
              "0.9014285714285715"
            ]
          },
          "metadata": {
            "tags": []
          },
          "execution_count": 124
        }
      ]
    },
    {
      "cell_type": "markdown",
      "metadata": {
        "id": "K9AA3-apGvIt"
      },
      "source": [
        "### Relación entre $\\tau$ y N"
      ]
    },
    {
      "cell_type": "code",
      "metadata": {
        "id": "Lt05tTLSZv0r"
      },
      "source": [
        "def fun1(t,n):\r\n",
        "    ans = 0\r\n",
        "    for i in range(t,n):\r\n",
        "        ans += (1/i)\r\n",
        "    return ans\r\n",
        "\r\n",
        "def tau(n):\r\n",
        "    return max([t for t in range(1,n) if (fun1(t,n)>1)], default=1)"
      ],
      "execution_count": 91,
      "outputs": []
    },
    {
      "cell_type": "code",
      "metadata": {
        "id": "X1V-eB5riQtv"
      },
      "source": [
        "tauList = []\r\n",
        "uOptis = []\r\n",
        "for i in range(1,50):\r\n",
        "    tauList.append(tau(i))\r\n",
        "    uOptis.append(max(tau(i)/i, (tau(i)/i)*fun1(tau(i),i)))"
      ],
      "execution_count": 92,
      "outputs": []
    },
    {
      "cell_type": "code",
      "metadata": {
        "colab": {
          "base_uri": "https://localhost:8080/",
          "height": 279
        },
        "id": "I69aoi6RlgWH",
        "outputId": "6cdc91b2-2487-452e-d80f-cbad1ad390c2"
      },
      "source": [
        "plt.plot(range(1,50),np.divide(tauList,range(1,50)), label=r'$\\tau/N$')\r\n",
        "plt.xlabel(\"N Candidatos\")\r\n",
        "plt.ylabel(r'$\\tau / N$')\r\n",
        "plt.axhline(y=1/np.e, c='r', label='1/e')\r\n",
        "plt.legend()\r\n",
        "plt.show()"
      ],
      "execution_count": 93,
      "outputs": [
        {
          "output_type": "display_data",
          "data": {
            "image/png": "[encoded data removed]",
            "text/plain": [
              "<Figure size 432x288 with 1 Axes>"
            ]
          },
          "metadata": {
            "tags": [],
            "needs_background": "light"
          }
        }
      ]
    },
    {
      "cell_type": "code",
      "metadata": {
        "colab": {
          "base_uri": "https://localhost:8080/",
          "height": 279
        },
        "id": "d8iHQRPr1xxk",
        "outputId": "75d14ef9-aa30-4a4e-9b33-153e3c4f78c5"
      },
      "source": [
        "plt.plot(range(1,50),uOptis, label=r'$u^*_1 (1)$')\r\n",
        "plt.xlabel(\"N Candidatos\")\r\n",
        "plt.ylabel(r'$u^*_1 (1)$')\r\n",
        "plt.axhline(y=1/np.e, c='r', label='1/e')\r\n",
        "plt.legend()\r\n",
        "plt.show()"
      ],
      "execution_count": 94,
      "outputs": [
        {
          "output_type": "display_data",
          "data": {
            "image/png": "[encoded data removed]",
            "text/plain": [
              "<Figure size 432x288 with 1 Axes>"
            ]
          },
          "metadata": {
            "tags": [],
            "needs_background": "light"
          }
        }
      ]
    },
    {
      "cell_type": "markdown",
      "metadata": {
        "id": "jjpS8J9-KiuF"
      },
      "source": [
        "# Los dos mejores"
      ]
    },
    {
      "cell_type": "code",
      "metadata": {
        "id": "jQrx8r4VnwtS"
      },
      "source": [
        "import sys\r\n",
        "sys.setrecursionlimit(1500)"
      ],
      "execution_count": 75,
      "outputs": []
    },
    {
      "cell_type": "code",
      "metadata": {
        "id": "gFyMy9ylh5yw"
      },
      "source": [
        "def uOpti(t,s,N, list):\r\n",
        "    if t==N:\r\n",
        "        if s==1:\r\n",
        "            list = np.insert(list,0, 1, axis=0)\r\n",
        "        elif s==0:\r\n",
        "            list = np.insert(list,0, 0, axis=0)\r\n",
        "    else:\r\n",
        "        return (2/(t+1))*(uOpti(t+1,1,N)) + ((t-1)/(t+1))*(uOpti(t+1,0,N))"
      ],
      "execution_count": 79,
      "outputs": []
    },
    {
      "cell_type": "code",
      "metadata": {
        "id": "LKlkSLW-sQI0"
      },
      "source": [
        "def u0t(t,N, u0tt, u1tt):\r\n",
        "    #dados u1 en t+1 y u0 en t+1 calcula u0 en t\r\n",
        "    return (2/(t+1))*(u1tt) + ((t-1)/(t+1))*(u0tt)\r\n",
        "\r\n",
        "def u1t(t, N, u0t):\r\n",
        "    #dados calcula u1 en t\r\n",
        "    return max(u0t, (t/N)*(2-(t-1)/(N-1)))"
      ],
      "execution_count": 5,
      "outputs": []
    },
    {
      "cell_type": "code",
      "metadata": {
        "id": "IzbB3dwBKpYM"
      },
      "source": [
        "def optimo2(lista_candidatos):\r\n",
        "    N = lista_candidatos.size\r\n",
        "    elMejor = N+1\r\n",
        "    elSegundoMejor = N+1\r\n",
        "    contratado = lista_candidatos[-1]\r\n",
        "    u0s= np.array([])\r\n",
        "    for t in range(N, 0, -1):\r\n",
        "        if t==N:\r\n",
        "            u1tt=1\r\n",
        "            u0tt=0\r\n",
        "        else:\r\n",
        "            u0tt= u0t(t,N,u0tt, u1tt)\r\n",
        "            u1tt= u1t(t,N,u0tt)\r\n",
        "        u0s = np.insert(u0s,0, u0t(t,N, u0tt,u1tt))\r\n",
        "\r\n",
        "    for indx,i in enumerate(lista_candidatos):\r\n",
        "        probContratar = (indx/N)*(2-(indx-1)/(N-1))\r\n",
        "        probSeguir    = u0s[indx]\r\n",
        "        if probContratar<probSeguir:\r\n",
        "            if elMejor>i:\r\n",
        "                elMejor=i\r\n",
        "            elif elSegundoMejor>i:\r\n",
        "                elSegundoMejor=i\r\n",
        "            else:\r\n",
        "                continue\r\n",
        "        if probContratar>=probSeguir:\r\n",
        "            if (elMejor>=i or elSegundoMejor>=i):\r\n",
        "                contratado = i\r\n",
        "                break\r\n",
        "            else:\r\n",
        "                continue\r\n",
        "    return contratado"
      ],
      "execution_count": 6,
      "outputs": []
    },
    {
      "cell_type": "code",
      "metadata": {
        "id": "G3-5f9nahUJu"
      },
      "source": [
        "candidatosOptimos = []\r\n",
        "for i in range(700):\r\n",
        "    np.random.shuffle(Candidatos)\r\n",
        "    candidatosOptimos.append(optimo2(Candidatos))\r\n",
        "candidatosOptimos = np.array(candidatosOptimos)"
      ],
      "execution_count": 5,
      "outputs": []
    },
    {
      "cell_type": "code",
      "metadata": {
        "colab": {
          "base_uri": "https://localhost:8080/",
          "height": 279
        },
        "id": "WFrDM_SD36Rz",
        "outputId": "3384993a-738d-4f43-b1fd-a2c5da7c787c"
      },
      "source": [
        "plt.clf()\r\n",
        "ax = sns.histplot(candidatosOptimos, bins=10)\r\n",
        "ax.set(xlabel='Ranking')\r\n",
        "plt.show()"
      ],
      "execution_count": 6,
      "outputs": [
        {
          "output_type": "display_data",
          "data": {
            "image/png": "[encoded data removed]",
            "text/plain": [
              "<Figure size 432x288 with 1 Axes>"
            ]
          },
          "metadata": {
            "tags": [],
            "needs_background": "light"
          }
        }
      ]
    },
    {
      "cell_type": "code",
      "metadata": {
        "colab": {
          "base_uri": "https://localhost:8080/",
          "height": 279
        },
        "id": "jolGNwrZhc5Q",
        "outputId": "d48acc8e-5253-4f66-eee3-7170296c0df2"
      },
      "source": [
        "primeros = candidatosOptimos[np.where(candidatosOptimos<10)]\r\n",
        "plt.clf()\r\n",
        "ax = sns.histplot(primeros, bins=9)\r\n",
        "ax.set(xlabel='Ranking')\r\n",
        "plt.show()"
      ],
      "execution_count": 7,
      "outputs": [
        {
          "output_type": "display_data",
          "data": {
            "image/png": "[encoded data removed]",
            "text/plain": [
              "<Figure size 432x288 with 1 Axes>"
            ]
          },
          "metadata": {
            "tags": [],
            "needs_background": "light"
          }
        }
      ]
    },
    {
      "cell_type": "code",
      "metadata": {
        "colab": {
          "base_uri": "https://localhost:8080/"
        },
        "id": "x9BcuZA6mCuY",
        "outputId": "4dcf0e42-0c8e-46e5-917d-8a69a76764e9"
      },
      "source": [
        "losPrimeros = candidatosOptimos[np.where(candidatosOptimos<50)]\r\n",
        "losPrimeros.size/700"
      ],
      "execution_count": 8,
      "outputs": [
        {
          "output_type": "execute_result",
          "data": {
            "text/plain": [
              "0.8657142857142858"
            ]
          },
          "metadata": {
            "tags": []
          },
          "execution_count": 8
        }
      ]
    },
    {
      "cell_type": "code",
      "metadata": {
        "colab": {
          "base_uri": "https://localhost:8080/"
        },
        "id": "ZOdkszlH20Jd",
        "outputId": "52d785c1-4f86-40ca-b59c-6f7fde8a608b"
      },
      "source": [
        "losPrimeros = candidatosOptimos[np.where(candidatosOptimos>=50)]\r\n",
        "losPrimeros.size/700"
      ],
      "execution_count": 119,
      "outputs": [
        {
          "output_type": "execute_result",
          "data": {
            "text/plain": [
              "0.09857142857142857"
            ]
          },
          "metadata": {
            "tags": []
          },
          "execution_count": 119
        }
      ]
    },
    {
      "cell_type": "code",
      "metadata": {
        "colab": {
          "base_uri": "https://localhost:8080/"
        },
        "id": "Rb6e-Xk73GKT",
        "outputId": "943ab883-7c2c-4b88-c419-1d375048ef4b"
      },
      "source": [
        "losPrimeros.size"
      ],
      "execution_count": 120,
      "outputs": [
        {
          "output_type": "execute_result",
          "data": {
            "text/plain": [
              "69"
            ]
          },
          "metadata": {
            "tags": []
          },
          "execution_count": 120
        }
      ]
    },
    {
      "cell_type": "code",
      "metadata": {
        "colab": {
          "base_uri": "https://localhost:8080/"
        },
        "id": "wJgbNYU33Kdv",
        "outputId": "9e7f96e3-b175-44f5-ef93-c416b80f3524"
      },
      "source": [
        "losPrimeros.size"
      ],
      "execution_count": 121,
      "outputs": [
        {
          "output_type": "execute_result",
          "data": {
            "text/plain": [
              "69"
            ]
          },
          "metadata": {
            "tags": []
          },
          "execution_count": 121
        }
      ]
    },
    {
      "cell_type": "code",
      "metadata": {
        "id": "5zVWA2L83bj_"
      },
      "source": [
        "N=100000\r\n",
        "u0s= np.array([])\r\n",
        "for t in range(N, 0, -1):\r\n",
        "    if t==N:\r\n",
        "       u1tt=1\r\n",
        "       u0tt=0\r\n",
        "    else:\r\n",
        "        u0tt= u0t(t,N,u0tt, u1tt)\r\n",
        "        u1tt= u1t(t,N,u0tt)\r\n",
        "    u0s = np.insert(u0s,0, u0t(t,N, u0tt,u1tt))\r\n"
      ],
      "execution_count": 13,
      "outputs": []
    },
    {
      "cell_type": "code",
      "metadata": {
        "id": "pr3xBLSfogKw"
      },
      "source": [
        "k = 200\r\n",
        "tauN = np.zeros(k)\r\n",
        "for i in range(1,k):\r\n",
        "    N = i\r\n",
        "    u0s= np.array([])\r\n",
        "    for t in range(N, 0, -1):\r\n",
        "        if t==N:\r\n",
        "            u1tt=1\r\n",
        "            u0tt=0\r\n",
        "        else:\r\n",
        "            u0tt= u0t(t,N,u0tt, u1tt)\r\n",
        "            u1tt= u1t(t,N,u0tt)\r\n",
        "        u0s = np.insert(u0s,0, u0t(t,N, u0tt,u1tt))\r\n",
        "    \r\n",
        "    jold = u0s[0]\r\n",
        "    for indx,j in enumerate(u0s):\r\n",
        "        jnew=j\r\n",
        "        if abs(jold-jnew)<0.0000001:\r\n",
        "            jold = jnew\r\n",
        "            continue\r\n",
        "        else:\r\n",
        "            tauN[i] = indx/N\r\n",
        "            break\r\n"
      ],
      "execution_count": 18,
      "outputs": []
    },
    {
      "cell_type": "code",
      "metadata": {
        "colab": {
          "base_uri": "https://localhost:8080/",
          "height": 283
        },
        "id": "5Z6FpZoEqgI3",
        "outputId": "28ae1e8d-12a1-44e0-8270-515ef2301c33"
      },
      "source": [
        "plt.plot(np.arange(2,k),tauN[2:])"
      ],
      "execution_count": 19,
      "outputs": [
        {
          "output_type": "execute_result",
          "data": {
            "text/plain": [
              "[<matplotlib.lines.Line2D at 0x7f6f071dafd0>]"
            ]
          },
          "metadata": {
            "tags": []
          },
          "execution_count": 19
        },
        {
          "output_type": "display_data",
          "data": {
            "image/png": "[encoded data removed]",
            "text/plain": [
              "<Figure size 432x288 with 1 Axes>"
            ]
          },
          "metadata": {
            "tags": [],
            "needs_background": "light"
          }
        }
      ]
    },
    {
      "cell_type": "code",
      "metadata": {
        "id": "y3z8OCg_qr4a"
      },
      "source": [
        ""
      ],
      "execution_count": 19,
      "outputs": []
    },
    {
      "cell_type": "code",
      "metadata": {
        "id": "av5WT8Zwtm46"
      },
      "source": [
        ""
      ],
      "execution_count": null,
      "outputs": []
    },
    {
      "cell_type": "markdown",
      "metadata": {
        "id": "5W-q3-nkAtwC"
      },
      "source": [
        "# Punto STONKS"
      ]
    },
    {
      "cell_type": "code",
      "metadata": {
        "id": "SFlebpdcAv2N"
      },
      "source": [
        "x=np.arange(0,30)+1\r\n",
        "y = np.maximum(100*(29-x)-50, 2851-100*x )"
      ],
      "execution_count": 33,
      "outputs": []
    },
    {
      "cell_type": "code",
      "metadata": {
        "id": "Pz6FoUB0Qt18"
      },
      "source": [
        "probMove = [0.4, 0.1, 0.5]\r\n",
        "def utx(stonk, utxMas, utx0, utxMenos):\r\n",
        "    # accion 0 : comprar\r\n",
        "    # accion 1 : continuar para comprar\r\n",
        "    # accion 2 : continuar para no comprar\r\n",
        "    recomps = np.array([100*(29-stonk)-50, probMove[0]*utxMas+probMove[1]*utx0+probMove[2]*utxMenos,0])\r\n",
        "    accion = np.argmax(recomps)\r\n",
        "    return recomps[accion], accion\r\n",
        "\r\n",
        "def arboltt(t, step =0.1):\r\n",
        "    dt = step*t\r\n",
        "    return np.linspace(30-dt, 30+dt, int((2*dt)/step)+1)"
      ],
      "execution_count": 312,
      "outputs": []
    },
    {
      "cell_type": "code",
      "metadata": {
        "id": "5zrjAjWqZveZ"
      },
      "source": [
        "N = 30\r\n",
        "u0s = []\r\n",
        "acciones = []\r\n",
        "for t in range(N, -1, -1):\r\n",
        "    arbol = arboltt(t)\r\n",
        "    if t==N:\r\n",
        "        u0 = np.maximum(100*(29-arbol)-50, np.zeros_like(arbol))\r\n",
        "        accion = 2*(u0==0)\r\n",
        "    else:\r\n",
        "        u0new = np.zeros_like(arbol)\r\n",
        "        accionNew = np.zeros_like(arbol)  \r\n",
        "        for indx, stonk in enumerate(arbol):\r\n",
        "            recomp, acciony = utx(stonk, u0[indx+2], u0[indx+1], u0[indx]) \r\n",
        "            u0new[indx] = recomp\r\n",
        "            accionNew[indx] = acciony\r\n",
        "        u0 = u0new\r\n",
        "        accion = accionNew\r\n",
        "    u0s.append(u0)\r\n",
        "    acciones.append(accion)\r\n",
        "u0s = u0s[::-1]\r\n",
        "acciones = acciones[::-1]"
      ],
      "execution_count": 313,
      "outputs": []
    },
    {
      "cell_type": "code",
      "metadata": {
        "id": "lMioWuKlkrVt"
      },
      "source": [
        "def simul():\r\n",
        "    stonks = 30\r\n",
        "    global precio\r\n",
        "    precio = np.array(stonks)\r\n",
        "    for t in range(0,N+1):\r\n",
        "        ubic = int(np.argwhere(abs(arboltt(t)-stonks)<0.001))\r\n",
        "        if acciones[t][ubic]==0:\r\n",
        "            return u0s[t][ubic]\r\n",
        "            break\r\n",
        "        stonks += np.random.choice([0.1, 0, -0.1], p=[0.4, 0.1, 0.5])\r\n",
        "        precio = np.append(precio, stonks)\r\n",
        "    return 0"
      ],
      "execution_count": 314,
      "outputs": []
    },
    {
      "cell_type": "code",
      "metadata": {
        "colab": {
          "base_uri": "https://localhost:8080/"
        },
        "id": "DZGpZrYUqlf-",
        "outputId": "e34d926a-f31d-4a7a-a9af-44c87d040142"
      },
      "source": [
        "numveces = 10000\r\n",
        "ganancias = 0\r\n",
        "for i in range(numveces):\r\n",
        "    ganancias += (simul()!=0)\r\n",
        "ganancias"
      ],
      "execution_count": 270,
      "outputs": [
        {
          "output_type": "execute_result",
          "data": {
            "text/plain": [
              "63"
            ]
          },
          "metadata": {
            "tags": []
          },
          "execution_count": 270
        }
      ]
    },
    {
      "cell_type": "code",
      "metadata": {
        "colab": {
          "base_uri": "https://localhost:8080/",
          "height": 283
        },
        "id": "jOTmcvJgq-Mz",
        "outputId": "1089d737-58df-4a74-dee1-00bce88b357b"
      },
      "source": [
        ""
      ],
      "execution_count": 256,
      "outputs": [
        {
          "output_type": "execute_result",
          "data": {
            "text/plain": [
              "[<matplotlib.lines.Line2D at 0x7f6efdc076a0>]"
            ]
          },
          "metadata": {
            "tags": []
          },
          "execution_count": 256
        },
        {
          "output_type": "display_data",
          "data": {
            "image/png": "[encoded data removed]",
            "text/plain": [
              "<Figure size 432x288 with 1 Axes>"
            ]
          },
          "metadata": {
            "tags": [],
            "needs_background": "light"
          }
        }
      ]
    },
    {
      "cell_type": "code",
      "metadata": {
        "id": "RODQc8F6BKSr"
      },
      "source": [
        "N = 30\r\n",
        "stonks = 30\r\n",
        "precio = np.array(stonks)\r\n",
        "stonk = np.linspace(27,33, int((33-27)/0.1)+1)\r\n",
        "\r\n",
        "for t in range(1,N):\r\n",
        "    \r\n",
        "    if i<dias:\r\n",
        "        recomps = [100*(29-stonks)-50, 2851-100*stonks, 0]\r\n",
        "        accion = np.argmax(recomps)\r\n",
        "        if accion==0:\r\n",
        "            print(i)\r\n",
        "            a,b = recomps[accion], i\r\n",
        "            break\r\n",
        "             \r\n",
        "\r\n",
        "    elif i==dias:\r\n",
        "        recomps = [100*(29-stonks)-50,0]\r\n",
        "        accion = np.argmax(recomps)\r\n",
        "        if accion==0:\r\n",
        "            a,b= recomps[accion], i\r\n",
        "            break\r\n",
        "    else:\r\n",
        "        a,b = None, 0\r\n",
        "    l = np.random.choice([0.1, 0, -0.1], p=[0.4, 0.1, 0.5])\r\n",
        "    stonks += l\r\n",
        "    precio = np.append(precio, stonks)"
      ],
      "execution_count": 90,
      "outputs": []
    },
    {
      "cell_type": "code",
      "metadata": {
        "colab": {
          "base_uri": "https://localhost:8080/",
          "height": 283
        },
        "id": "F2nVu-HBBMp7",
        "outputId": "c2b4a026-4482-43e8-dc57-15ba03d71e72"
      },
      "source": [
        "plt.plot(x[:precio.size] ,precio)\r\n",
        "plt.axhline(y=29, c='r')"
      ],
      "execution_count": 93,
      "outputs": [
        {
          "output_type": "execute_result",
          "data": {
            "text/plain": [
              "<matplotlib.lines.Line2D at 0x7f6f0658b208>"
            ]
          },
          "metadata": {
            "tags": []
          },
          "execution_count": 93
        },
        {
          "output_type": "display_data",
          "data": {
            "image/png": "[encoded data removed]",
            "text/plain": [
              "<Figure size 432x288 with 1 Axes>"
            ]
          },
          "metadata": {
            "tags": [],
            "needs_background": "light"
          }
        }
      ]
    },
    {
      "cell_type": "code",
      "metadata": {
        "colab": {
          "base_uri": "https://localhost:8080/"
        },
        "id": "Tya09PpyICqJ",
        "outputId": "3b641495-aa8d-4059-a85e-d8f3cf1100ef"
      },
      "source": [
        " np.random.choice([0.1, 0, -0.1], p=[0.4, 0.1, 0.5])"
      ],
      "execution_count": 72,
      "outputs": [
        {
          "output_type": "execute_result",
          "data": {
            "text/plain": [
              "-0.1"
            ]
          },
          "metadata": {
            "tags": []
          },
          "execution_count": 72
        }
      ]
    },
    {
      "cell_type": "code",
      "metadata": {
        "id": "5pHFa3qTIIFy"
      },
      "source": [
        "    u0s= np.array([])\r\n",
        "    for t in range(N, 0, -1):\r\n",
        "        if t==N:\r\n",
        "            u1tt=1\r\n",
        "            u0tt=0\r\n",
        "        else:\r\n",
        "            u0tt= u0t(t,N,u0tt, u1tt)\r\n",
        "            u1tt= u1t(t,N,u0tt)\r\n",
        "        u0s = np.insert(u0s,0, u0t(t,N, u0tt,u1tt))"
      ],
      "execution_count": null,
      "outputs": []
    },
    {
      "cell_type": "code",
      "metadata": {
        "id": "Z3Ha86uzT7a0"
      },
      "source": [
        ""
      ],
      "execution_count": 101,
      "outputs": []
    },
    {
      "cell_type": "code",
      "metadata": {
        "colab": {
          "base_uri": "https://localhost:8080/"
        },
        "id": "C5rZ_NeVT7pQ",
        "outputId": "5c932404-4351-407e-acc8-1b2bee6ada42"
      },
      "source": [
        "stonk = np.linspace(27,33, int((33-27)/0.1)+1)\r\n",
        "\r\n",
        "stonk[1:-1]"
      ],
      "execution_count": 104,
      "outputs": [
        {
          "output_type": "execute_result",
          "data": {
            "text/plain": [
              "array([27.1, 27.2, 27.3, 27.4, 27.5, 27.6, 27.7, 27.8, 27.9, 28. , 28.1,\n",
              "       28.2, 28.3, 28.4, 28.5, 28.6, 28.7, 28.8, 28.9, 29. , 29.1, 29.2,\n",
              "       29.3, 29.4, 29.5, 29.6, 29.7, 29.8, 29.9, 30. , 30.1, 30.2, 30.3,\n",
              "       30.4, 30.5, 30.6, 30.7, 30.8, 30.9, 31. , 31.1, 31.2, 31.3, 31.4,\n",
              "       31.5, 31.6, 31.7, 31.8, 31.9, 32. , 32.1, 32.2, 32.3, 32.4, 32.5,\n",
              "       32.6, 32.7, 32.8, 32.9])"
            ]
          },
          "metadata": {
            "tags": []
          },
          "execution_count": 104
        }
      ]
    },
    {
      "cell_type": "code",
      "metadata": {
        "colab": {
          "base_uri": "https://localhost:8080/"
        },
        "id": "I4ZLfKHUUKLj",
        "outputId": "ebb4f58f-591e-4957-8224-2d7bedac7c88"
      },
      "source": [
        ""
      ],
      "execution_count": 108,
      "outputs": [
        {
          "output_type": "stream",
          "text": [
            "2\n",
            "3\n",
            "4\n"
          ],
          "name": "stdout"
        }
      ]
    },
    {
      "cell_type": "code",
      "metadata": {
        "id": "QS6coK7dczVR"
      },
      "source": [
        ""
      ],
      "execution_count": null,
      "outputs": []
    }
  ]
}